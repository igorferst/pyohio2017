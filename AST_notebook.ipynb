{
 "cells": [
  {
   "cell_type": "code",
   "execution_count": null,
   "metadata": {
    "collapsed": true
   },
   "outputs": [],
   "source": [
    "import ast, astunparse"
   ]
  },
  {
   "cell_type": "code",
   "execution_count": null,
   "metadata": {
    "collapsed": true
   },
   "outputs": [],
   "source": [
    "# Here's some static code\n",
    "\n",
    "static_code = '''\n",
    "r = 3\n",
    "n = 7\n",
    "r = r * (n - 1)\n",
    "print(r)\n",
    "'''"
   ]
  },
  {
   "cell_type": "code",
   "execution_count": null,
   "metadata": {
    "collapsed": true
   },
   "outputs": [],
   "source": [
    "# A function that renames variables\n",
    "\n",
    "def rename_var(static_code, var_name, new_var_name):\n",
    "    \n",
    "    # Inherits from a helper class for crawling ASTs\n",
    "    class renamer(ast.NodeVisitor):\n",
    "        def visit_Name(self, node):\n",
    "            if node.id == var_name:\n",
    "                node.id = new_var_name\n",
    "\n",
    "    # Parse static code into AST\n",
    "    tree = ast.parse(static_code)\n",
    "    # Transform AST\n",
    "    renamer().visit(tree)\n",
    "    # Unparse transformed AST back into static code\n",
    "    refactored_code = astunparse.unparse(tree)\n",
    "    \n",
    "    return refactored_code"
   ]
  },
  {
   "cell_type": "code",
   "execution_count": null,
   "metadata": {},
   "outputs": [],
   "source": [
    "refactored_code = rename_var(static_code, 'r', 'foo')\n",
    "print(static_code)\n",
    "print(refactored_code)"
   ]
  },
  {
   "cell_type": "code",
   "execution_count": null,
   "metadata": {
    "collapsed": true
   },
   "outputs": [],
   "source": []
  }
 ],
 "metadata": {
  "kernelspec": {
   "display_name": "Python 3",
   "language": "python",
   "name": "python3"
  },
  "language_info": {
   "codemirror_mode": {
    "name": "ipython",
    "version": 3
   },
   "file_extension": ".py",
   "mimetype": "text/x-python",
   "name": "python",
   "nbconvert_exporter": "python",
   "pygments_lexer": "ipython3",
   "version": "3.5.0"
  }
 },
 "nbformat": 4,
 "nbformat_minor": 2
}
